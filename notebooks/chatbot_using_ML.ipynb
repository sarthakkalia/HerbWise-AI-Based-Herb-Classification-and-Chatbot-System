{
  "nbformat": 4,
  "nbformat_minor": 0,
  "metadata": {
    "colab": {
      "provenance": []
    },
    "kernelspec": {
      "name": "python3",
      "display_name": "Python 3"
    },
    "language_info": {
      "name": "python"
    }
  },
  "cells": [
    {
      "cell_type": "code",
      "execution_count": null,
      "metadata": {
        "id": "SPs7HkmEoipc"
      },
      "outputs": [],
      "source": [
        "import nltk\n",
        "import random\n",
        "import json\n",
        "from nltk.corpus import wordnet\n",
        "from sklearn.model_selection import train_test_split, GridSearchCV\n",
        "from sklearn.feature_extraction.text import TfidfVectorizer\n",
        "from nltk.stem import WordNetLemmatizer\n",
        "from sklearn.linear_model import LogisticRegression\n",
        "from sklearn.naive_bayes import MultinomialNB\n",
        "from sklearn.tree import DecisionTreeClassifier\n",
        "from sklearn.ensemble import RandomForestClassifier\n",
        "from sklearn.svm import LinearSVC\n",
        "import warnings\n",
        "warnings.filterwarnings('ignore')\n",
        "from sklearn.metrics import accuracy_score"
      ]
    },
    {
      "cell_type": "code",
      "source": [
        "intents ={\n",
        "  \"intents\": [\n",
        "    {\n",
        "      \"tag\": \"aloe_vera\",\n",
        "      \"patterns\": [\n",
        "        \"What is Aloe Vera?\",\n",
        "        \"What are the benefits of Aloe Vera?\",\n",
        "        \"How do I use Aloe Vera?\",\n",
        "        \"Are there any side effects of Aloe Vera?\",\n",
        "        \"Can Aloe Vera help with skin issues?\"\n",
        "      ],\n",
        "      \"responses\": [\n",
        "        \"Aloe Vera is a succulent plant known for its medicinal and cosmetic uses. It has soothing, moisturizing, and healing properties.\",\n",
        "        \"The benefits of Aloe Vera include improved skin hydration, reduced inflammation, and support for digestion.\",\n",
        "        \"Aloe Vera can be used topically for skin care or consumed in the form of supplements or juices.\",\n",
        "        \"Some people may experience skin irritation or allergic reactions. It's best to do a patch test before using it extensively.\",\n",
        "        \"Yes, Aloe Vera can help with skin issues such as burns, acne, and dryness due to its healing and moisturizing properties.\"\n",
        "      ]\n",
        "    },\n",
        "    {\n",
        "      \"tag\": \"tulsi\",\n",
        "      \"patterns\": [\n",
        "        \"What is Tulsi?\",\n",
        "        \"What are the health benefits of Tulsi?\",\n",
        "        \"How can I use Tulsi?\",\n",
        "        \"Are there any side effects of Tulsi?\",\n",
        "        \"Can Tulsi help with stress?\"\n",
        "      ],\n",
        "      \"responses\": [\n",
        "        \"Tulsi, also known as Holy Basil, is an aromatic plant used in traditional medicine for its therapeutic properties.\",\n",
        "        \"Tulsi is known for its benefits in reducing stress, boosting immunity, and improving respiratory health.\",\n",
        "        \"Tulsi can be consumed as tea, used in cooking, or applied topically in some forms.\",\n",
        "        \"Tulsi is generally safe but might interact with certain medications. Consult a healthcare provider if you have any concerns.\",\n",
        "        \"Yes, Tulsi is known to have adaptogenic properties that help in reducing stress and balancing the body's response to stress.\"\n",
        "      ]\n",
        "    },\n",
        "    {\n",
        "      \"tag\": \"ashwagandha\",\n",
        "      \"patterns\": [\n",
        "        \"What is Ashwagandha?\",\n",
        "        \"What are the benefits of Ashwagandha?\",\n",
        "        \"How should I take Ashwagandha?\",\n",
        "        \"Are there any side effects of Ashwagandha?\",\n",
        "        \"Can Ashwagandha help with sleep?\"\n",
        "      ],\n",
        "      \"responses\": [\n",
        "        \"Ashwagandha is an adaptogenic herb used in Ayurvedic medicine to help the body cope with stress and improve overall health.\",\n",
        "        \"Benefits of Ashwagandha include stress reduction, improved energy levels, and enhanced cognitive function.\",\n",
        "        \"Ashwagandha can be taken as a supplement in various forms, including capsules, powders, or teas.\",\n",
        "        \"Some people may experience mild side effects such as digestive upset. It's best to start with a lower dose and consult a healthcare provider.\",\n",
        "        \"Yes, Ashwagandha is often used to support better sleep and improve sleep quality due to its calming effects.\"\n",
        "      ]\n",
        "    },\n",
        "    {\n",
        "      \"tag\": \"neem\",\n",
        "      \"patterns\": [\n",
        "        \"What is Neem?\",\n",
        "        \"What are the uses of Neem?\",\n",
        "        \"How can I use Neem?\",\n",
        "        \"Are there any side effects of Neem?\",\n",
        "        \"Can Neem help with acne?\"\n",
        "      ],\n",
        "      \"responses\": [\n",
        "        \"Neem is a tree known for its medicinal properties, often used in traditional medicine for its antibacterial and anti-inflammatory effects.\",\n",
        "        \"Neem can be used for various purposes, including skin care, dental health, and as a natural pesticide.\",\n",
        "        \"Neem can be applied topically in the form of creams or oils, or taken internally as supplements.\",\n",
        "        \"Neem is generally safe for most people, but it can cause some gastrointestinal issues in high doses. Always consult with a healthcare provider if unsure.\",\n",
        "        \"Yes, Neem is known for its antibacterial properties, making it effective in treating acne and other skin infections.\"\n",
        "      ]\n",
        "    },\n",
        "    {\n",
        "      \"tag\": \"aloe_vera_uses\",\n",
        "      \"patterns\": [\n",
        "        \"What are the uses of Aloe Vera?\",\n",
        "        \"How can I use Aloe Vera for skin?\",\n",
        "        \"Can Aloe Vera be used for digestive issues?\",\n",
        "        \"What are some common uses of Aloe Vera?\",\n",
        "        \"How is Aloe Vera used in cosmetics?\"\n",
        "      ],\n",
        "      \"responses\": [\n",
        "        \"Aloe Vera can be used for soothing burns, moisturizing the skin, treating acne, and improving digestion. It's also used in various cosmetic products for its hydrating properties.\",\n",
        "        \"For skin care, Aloe Vera gel can be applied topically to treat burns, cuts, and dry skin.\",\n",
        "        \"Aloe Vera juice can aid digestion and support gut health when consumed in moderation.\",\n",
        "        \"Common uses include treating minor skin irritations, adding moisture to the skin, and promoting healing of wounds.\",\n",
        "        \"In cosmetics, Aloe Vera is used in lotions, creams, and masks for its moisturizing and soothing effects.\"\n",
        "      ]\n",
        "    },\n",
        "    {\n",
        "      \"tag\": \"aloe_vera_advantages_disadvantages\",\n",
        "      \"patterns\": [\n",
        "        \"What are the advantages of Aloe Vera?\",\n",
        "        \"What are the disadvantages of Aloe Vera?\",\n",
        "        \"Are there any risks of using Aloe Vera?\",\n",
        "        \"How does Aloe Vera benefit health?\",\n",
        "        \"Can Aloe Vera have side effects?\"\n",
        "      ],\n",
        "      \"responses\": [\n",
        "        \"Advantages of Aloe Vera include its ability to soothe skin irritations, improve skin hydration, and support digestive health. It's also known for its anti-inflammatory and antimicrobial properties.\",\n",
        "        \"Disadvantages may include potential skin irritation or allergic reactions in some individuals. Overuse of Aloe Vera internally may also lead to digestive issues.\",\n",
        "        \"Risks include potential allergic reactions and interactions with certain medications. It's best to use Aloe Vera with caution and consult a healthcare provider if unsure.\",\n",
        "        \"Health benefits include reduced inflammation, improved skin healing, and enhanced digestion.\",\n",
        "        \"Side effects can include mild irritation or allergic reactions, especially with topical use. Always perform a patch test before extensive use.\"\n",
        "      ]\n",
        "    },\n",
        "    {\n",
        "      \"tag\": \"tulsi_uses\",\n",
        "      \"patterns\": [\n",
        "        \"What are the uses of Tulsi?\",\n",
        "        \"How can Tulsi benefit health?\",\n",
        "        \"Can Tulsi be used for stress relief?\",\n",
        "        \"What are some common uses of Tulsi?\",\n",
        "        \"How is Tulsi used in traditional medicine?\"\n",
        "      ],\n",
        "      \"responses\": [\n",
        "        \"Tulsi, or Holy Basil, is used for stress relief, boosting immunity, and improving respiratory health. It's commonly consumed as tea, used in cooking, or applied topically.\",\n",
        "        \"For stress relief, Tulsi tea can be consumed daily. Tulsi leaves can also be used in cooking for their health benefits.\",\n",
        "        \"Common uses include making Tulsi tea for immune support, adding Tulsi leaves to dishes, or using Tulsi oil for topical applications.\",\n",
        "        \"In traditional medicine, Tulsi is used to balance the body's systems, support respiratory function, and reduce stress.\"\n",
        "      ]\n",
        "    },\n",
        "    {\n",
        "      \"tag\": \"tulsi_advantages_disadvantages\",\n",
        "      \"patterns\": [\n",
        "        \"What are the advantages of Tulsi?\",\n",
        "        \"What are the disadvantages of Tulsi?\",\n",
        "        \"Are there any risks of using Tulsi?\",\n",
        "        \"How does Tulsi benefit health?\",\n",
        "        \"Can Tulsi have side effects?\"\n",
        "      ],\n",
        "      \"responses\": [\n",
        "        \"Advantages of Tulsi include its ability to reduce stress, boost immunity, and support respiratory health. It also has anti-inflammatory and antioxidant properties.\",\n",
        "        \"Disadvantages may include potential interactions with medications and mild gastrointestinal issues. It's best to consult with a healthcare provider before extensive use.\",\n",
        "        \"Risks include potential interactions with blood-thinning medications and digestive upset in some individuals.\",\n",
        "        \"Health benefits include improved stress management, enhanced immunity, and support for respiratory health.\",\n",
        "        \"Side effects are generally rare but may include mild digestive discomfort or interactions with certain medications.\"\n",
        "      ]\n",
        "    },\n",
        "    {\n",
        "      \"tag\": \"ashwagandha_uses\",\n",
        "      \"patterns\": [\n",
        "        \"What are the uses of Ashwagandha?\",\n",
        "        \"How can Ashwagandha benefit health?\",\n",
        "        \"Can Ashwagandha be used for anxiety?\",\n",
        "        \"What are some common uses of Ashwagandha?\",\n",
        "        \"How is Ashwagandha used in supplements?\"\n",
        "      ],\n",
        "      \"responses\": [\n",
        "        \"Ashwagandha is used for reducing stress, improving energy levels, supporting cognitive function, and enhancing overall vitality. It’s commonly taken as a supplement in capsules, powders, or teas.\",\n",
        "        \"For anxiety, Ashwagandha can be taken as a supplement to help manage stress and promote relaxation.\",\n",
        "        \"Common uses include taking Ashwagandha supplements for stress relief, improved sleep, and enhanced cognitive function.\",\n",
        "        \"In supplements, Ashwagandha is available in various forms such as capsules, powders, and extracts.\"\n",
        "      ]\n",
        "    },\n",
        "    {\n",
        "      \"tag\": \"ashwagandha_advantages_disadvantages\",\n",
        "      \"patterns\": [\n",
        "        \"What are the advantages of Ashwagandha?\",\n",
        "        \"What are the disadvantages of Ashwagandha?\",\n",
        "        \"Are there any risks of using Ashwagandha?\",\n",
        "        \"How does Ashwagandha benefit health?\",\n",
        "        \"Can Ashwagandha have side effects?\"\n",
        "      ],\n",
        "      \"responses\": [\n",
        "        \"Advantages of Ashwagandha include its ability to reduce stress, enhance cognitive function, and improve overall vitality. It's known for its adaptogenic properties and support for better sleep.\",\n",
        "        \"Disadvantages may include potential gastrointestinal issues, interactions with medications, and mild drowsiness in some individuals.\",\n",
        "        \"Risks include potential interactions with sedatives and thyroid medications. It's best to use Ashwagandha under the guidance of a healthcare provider.\",\n",
        "        \"Health benefits include reduced stress, improved sleep quality, and enhanced cognitive function.\",\n",
        "        \"Side effects can include digestive upset, drowsiness, or interactions with certain medications. Consult a healthcare provider for personalized advice.\"\n",
        "      ]\n",
        "    },\n",
        "    {\n",
        "      \"tag\": \"neem_uses\",\n",
        "      \"patterns\": [\n",
        "        \"What are the uses of Neem?\",\n",
        "        \"How can Neem benefit health?\",\n",
        "        \"Can Neem be used for skin care?\",\n",
        "        \"What are some common uses of Neem?\",\n",
        "        \"How is Neem used in traditional medicine?\"\n",
        "      ],\n",
        "      \"responses\": [\n",
        "        \"Neem is used for its antibacterial, antifungal, and anti-inflammatory properties. Common uses include treating skin conditions, improving oral health, and acting as a natural pesticide.\",\n",
        "        \"For skin care, Neem can be used topically as an oil or in creams to treat acne and other skin issues.\",\n",
        "        \"Common uses include using Neem oil for skin and hair care, Neem sticks for dental health, and Neem extracts as natural pesticides.\",\n",
        "        \"In traditional medicine, Neem is used to treat a variety of conditions including skin infections, digestive issues, and as a general health tonic.\"\n",
        "      ]\n",
        "    },\n",
        "    {\n",
        "      \"tag\": \"neem_advantages_disadvantages\",\n",
        "      \"patterns\": [\n",
        "        \"What are the advantages of Neem?\",\n",
        "        \"What are the disadvantages of Neem?\",\n",
        "        \"Are there any risks of using Neem?\",\n",
        "        \"How does Neem benefit health?\",\n",
        "        \"Can Neem have side effects?\"\n",
        "      ],\n",
        "      \"responses\": [\n",
        "        \"Advantages of Neem include its antibacterial, antifungal, and anti-inflammatory properties, making it effective for skin care, dental health, and as a natural pesticide.\",\n",
        "        \"Disadvantages may include potential skin irritation or allergic reactions in some individuals. Neem can also have a strong odor which some people find unpleasant.\",\n",
        "        \"Risks include potential allergic reactions or gastrointestinal issues if consumed in large amounts. It's best to consult with a healthcare provider if using Neem extensively.\",\n",
        "        \"Health benefits include improved skin health, enhanced oral hygiene, and natural pest control.\",\n",
        "        \"Side effects can include mild skin irritation, digestive upset, or allergic reactions in some people. Use Neem products cautiously and consult a healthcare provider if needed.\"\n",
        "      ]\n",
        "    }\n",
        "  ]\n",
        "}"
      ],
      "metadata": {
        "id": "feZf2n0hojYQ"
      },
      "execution_count": null,
      "outputs": []
    },
    {
      "cell_type": "code",
      "source": [
        "# Function to perform synonym replacement\n",
        "def synonym_replacement(tokens, limit):\n",
        "    augmented_sentences = []\n",
        "    for i in range(len(tokens)):\n",
        "        synonyms = []\n",
        "        for syn in wordnet.synsets(tokens[i]):\n",
        "            for lemma in syn.lemmas():\n",
        "                synonyms.append(lemma.name())\n",
        "        if len(synonyms) > 0:\n",
        "            num_augmentations = min(limit, len(synonyms))\n",
        "            sampled_synonyms = random.sample(synonyms, num_augmentations)\n",
        "            for synonym in sampled_synonyms:\n",
        "                augmented_tokens = tokens[:i] + [synonym] + tokens[i+1:]\n",
        "                augmented_sentences.append(' '.join(augmented_tokens))\n",
        "    return augmented_sentences"
      ],
      "metadata": {
        "id": "sfsD73VYoqx-"
      },
      "execution_count": null,
      "outputs": []
    },
    {
      "cell_type": "code",
      "source": [
        "import nltk\n",
        "nltk.download('stopwords')\n",
        "nltk.download('punkt')\n",
        "nltk.download('wordnet')"
      ],
      "metadata": {
        "colab": {
          "base_uri": "https://localhost:8080/"
        },
        "id": "ibeq9EA3o_V4",
        "outputId": "e229489b-dd33-4b0d-8d0b-fb7d1f5db349"
      },
      "execution_count": null,
      "outputs": [
        {
          "output_type": "stream",
          "name": "stderr",
          "text": [
            "[nltk_data] Downloading package stopwords to /root/nltk_data...\n",
            "[nltk_data]   Unzipping corpora/stopwords.zip.\n",
            "[nltk_data] Downloading package punkt to /root/nltk_data...\n",
            "[nltk_data]   Unzipping tokenizers/punkt.zip.\n",
            "[nltk_data] Downloading package wordnet to /root/nltk_data...\n"
          ]
        },
        {
          "output_type": "execute_result",
          "data": {
            "text/plain": [
              "True"
            ]
          },
          "metadata": {},
          "execution_count": 4
        }
      ]
    },
    {
      "cell_type": "code",
      "source": [
        "text_data = []\n",
        "labels = []\n",
        "stopwords = set(nltk.corpus.stopwords.words('english'))\n",
        "lemmatizer = WordNetLemmatizer()\n",
        "\n",
        "\n",
        "limit_per_tag = 40\n",
        "\n",
        "for intent in intents['intents']:\n",
        "    augmented_sentences_per_tag = 0\n",
        "    for example in intent['patterns']:\n",
        "        tokens = nltk.word_tokenize(example.lower())\n",
        "        filtered_tokens = [lemmatizer.lemmatize(token) for token in tokens if token not in stopwords and token.isalpha()]\n",
        "        if filtered_tokens:\n",
        "            text_data.append(' '.join(filtered_tokens))\n",
        "            labels.append(intent['tag'])\n",
        "\n",
        "            augmented_sentences = synonym_replacement(filtered_tokens, limit_per_tag - augmented_sentences_per_tag)\n",
        "            for augmented_sentence in augmented_sentences:\n",
        "                text_data.append(augmented_sentence)\n",
        "                labels.append(intent['tag'])\n",
        "                augmented_sentences_per_tag += 1\n",
        "                if augmented_sentences_per_tag >= limit_per_tag:\n",
        "                    break\n",
        "\n",
        "print(len(text_data))\n",
        "print(len(labels))\n"
      ],
      "metadata": {
        "colab": {
          "base_uri": "https://localhost:8080/"
        },
        "id": "CQw0HhZmosMr",
        "outputId": "913be296-43da-4518-b78a-82c80b963c67"
      },
      "execution_count": null,
      "outputs": [
        {
          "output_type": "stream",
          "name": "stdout",
          "text": [
            "540\n",
            "540\n"
          ]
        }
      ]
    },
    {
      "cell_type": "code",
      "source": [
        "vectorizer = TfidfVectorizer()\n",
        "X = vectorizer.fit_transform(text_data)\n",
        "y = labels"
      ],
      "metadata": {
        "id": "B0FzUBkMovH5"
      },
      "execution_count": null,
      "outputs": []
    },
    {
      "cell_type": "code",
      "source": [
        "def find_best_model(X, y, test_size=0.2):\n",
        "    X_train, X_test, y_train, y_test = train_test_split(X, y, test_size=test_size, random_state=100)\n",
        "\n",
        "\n",
        "    models = [\n",
        "        ('Logistic Regression', LogisticRegression(), {\n",
        "            'penalty': ['l2'],\n",
        "            'C': [0.1, 1.0, 10.0],\n",
        "            'solver': ['liblinear'],\n",
        "            'max_iter': [100, 1000, 10000]\n",
        "        }),\n",
        "        ('Multinomial Naive Bayes', MultinomialNB(), {'alpha': [0.1, 0.5, 1.0]}),\n",
        "        ('Linear SVC', LinearSVC(), {\n",
        "            'penalty': ['l2'],\n",
        "            'loss': ['hinge', 'squared_hinge'],\n",
        "            'C': [0.1, 1, 10],\n",
        "            'max_iter': [100, 1000, 10000]\n",
        "        }),\n",
        "        ('Decision Tree', DecisionTreeClassifier(), {\n",
        "            'max_depth': [5, 10, 20, None],\n",
        "            'min_samples_split': [2, 5, 10],\n",
        "            'min_samples_leaf': [1, 2, 4],\n",
        "            'criterion': ['gini', 'entropy']\n",
        "        }),\n",
        "        ('Random Forest', RandomForestClassifier(), {\n",
        "            'n_estimators': [100, 200, 300],\n",
        "            'max_depth': [10, 20, None],\n",
        "            'min_samples_split': [2, 5, 10],\n",
        "            'min_samples_leaf': [1, 2, 4]\n",
        "        })\n",
        "    ]\n",
        "\n",
        "    for name, model, param_grid in models:\n",
        "        grid = GridSearchCV(model, param_grid, cv=3, n_jobs=-1)\n",
        "        grid.fit(X_train, y_train)\n",
        "        y_pred = grid.predict(X_test)\n",
        "        score = accuracy_score(y_test, y_pred)\n",
        "        print(f'{name}: {score:.4f} (best parameters: {grid.best_params_})')\n",
        "\n",
        "    best_model = max(models, key=lambda x: GridSearchCV(x[1], x[2], cv=3, n_jobs=-1).fit(X_train, y_train).score(X_test, y_test))\n",
        "    print(f'\\nBest model: {best_model[0]}')\n",
        "\n",
        "    # Fit the best model to the full training data\n",
        "    best_model[1].fit(X, y)\n",
        "\n",
        "    return best_model[1]"
      ],
      "metadata": {
        "id": "B-oKsLRDpaRZ"
      },
      "execution_count": null,
      "outputs": []
    },
    {
      "cell_type": "code",
      "source": [
        "best_model = find_best_model(X, y)"
      ],
      "metadata": {
        "colab": {
          "base_uri": "https://localhost:8080/"
        },
        "id": "EiHt55c7pbry",
        "outputId": "a5bfab95-e25d-40c1-9ec5-bae4ca7d1861"
      },
      "execution_count": null,
      "outputs": [
        {
          "output_type": "stream",
          "name": "stdout",
          "text": [
            "Logistic Regression: 0.7870 (best parameters: {'C': 10.0, 'max_iter': 100, 'penalty': 'l2', 'solver': 'liblinear'})\n",
            "Multinomial Naive Bayes: 0.7130 (best parameters: {'alpha': 0.5})\n",
            "Linear SVC: 0.7685 (best parameters: {'C': 1, 'loss': 'squared_hinge', 'max_iter': 100, 'penalty': 'l2'})\n",
            "Decision Tree: 0.8056 (best parameters: {'criterion': 'entropy', 'max_depth': None, 'min_samples_leaf': 2, 'min_samples_split': 5})\n",
            "Random Forest: 0.7778 (best parameters: {'max_depth': 20, 'min_samples_leaf': 1, 'min_samples_split': 5, 'n_estimators': 100})\n",
            "\n",
            "Best model: Decision Tree\n"
          ]
        }
      ]
    },
    {
      "cell_type": "code",
      "source": [
        "def chatbot_response(user_input):\n",
        "    input_text = vectorizer.transform([user_input])\n",
        "    predicted_intent = best_model.predict(input_text)[0]\n",
        "\n",
        "    for intent in intents['intents']:\n",
        "        if intent['tag'] == predicted_intent:\n",
        "            response = random.choice(intent['responses'])\n",
        "            break\n",
        "\n",
        "    return response"
      ],
      "metadata": {
        "id": "Db8cvFbHpfAc"
      },
      "execution_count": null,
      "outputs": []
    },
    {
      "cell_type": "code",
      "source": [
        "print('Hello! I am a chatbot. How can I help you today? Type \"quit\" to exit.')\n",
        "while True:\n",
        "    user_input = input('> ')\n",
        "    if user_input.lower() == 'quit':\n",
        "        break\n",
        "    response = chatbot_response(user_input)\n",
        "    print(response)"
      ],
      "metadata": {
        "colab": {
          "base_uri": "https://localhost:8080/"
        },
        "id": "WLQgE5a3ppk6",
        "outputId": "0896cedc-a621-4b6e-8d36-7ea64d0e7228"
      },
      "execution_count": null,
      "outputs": [
        {
          "name": "stdout",
          "output_type": "stream",
          "text": [
            "Hello! I am a chatbot. How can I help you today? Type \"quit\" to exit.\n",
            "> What is Tulsi?\n",
            "For stress relief, Tulsi tea can be consumed daily. Tulsi leaves can also be used in cooking for their health benefits.\n",
            "> What are the advantages of Tulsi?\n",
            "Tulsi, or Holy Basil, is used for stress relief, boosting immunity, and improving respiratory health. It's commonly consumed as tea, used in cooking, or applied topically.\n",
            "> What are the benefits of Aloe Vera?\n",
            "Aloe Vera can be used for soothing burns, moisturizing the skin, treating acne, and improving digestion. It's also used in various cosmetic products for its hydrating properties.\n",
            "> what is aloe vera\n",
            "Aloe Vera juice can aid digestion and support gut health when consumed in moderation.\n",
            "> quit\n"
          ]
        }
      ]
    },
    {
      "cell_type": "code",
      "source": [
        "import os\n",
        "import pickle\n",
        "\n",
        "\n",
        "if not os.path.exists('model'):\n",
        "    os.makedirs('model')\n",
        "\n",
        "if not os.path.exists('dataset'):\n",
        "    os.makedirs('dataset')\n",
        "\n",
        "# Save the trained model\n",
        "with open('model/chatbot_model.pkl', 'wb') as f:\n",
        "    pickle.dump(best_model, f)\n",
        "\n",
        "# Save the vectorizer\n",
        "with open('model/vectorizer.pkl', 'wb') as f:\n",
        "    pickle.dump(vectorizer, f)\n",
        "\n",
        "# Save the intents to the \"dataset\" folder\n",
        "with open('dataset/intents1.json', 'w') as f:\n",
        "    json.dump(intents, f)"
      ],
      "metadata": {
        "id": "GJEG8zCYlFAM"
      },
      "execution_count": null,
      "outputs": []
    },
    {
      "cell_type": "code",
      "source": [],
      "metadata": {
        "id": "LKjRZQvtlcfS"
      },
      "execution_count": null,
      "outputs": []
    }
  ]
}